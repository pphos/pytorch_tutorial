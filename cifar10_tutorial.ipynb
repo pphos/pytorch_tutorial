{
  "nbformat": 4,
  "nbformat_minor": 0,
  "metadata": {
    "colab": {
      "name": "cifar10_tutorial.ipynb",
      "provenance": [],
      "collapsed_sections": [],
      "authorship_tag": "ABX9TyNpnC1k2dee4AVAHZqnmCGt",
      "include_colab_link": true
    },
    "kernelspec": {
      "name": "python3",
      "display_name": "Python 3"
    },
    "accelerator": "GPU",
    "widgets": {
      "application/vnd.jupyter.widget-state+json": {
        "4580c359a9534d69a3855bee448eeec2": {
          "model_module": "@jupyter-widgets/controls",
          "model_name": "HBoxModel",
          "state": {
            "_view_name": "HBoxView",
            "_dom_classes": [],
            "_model_name": "HBoxModel",
            "_view_module": "@jupyter-widgets/controls",
            "_model_module_version": "1.5.0",
            "_view_count": null,
            "_view_module_version": "1.5.0",
            "box_style": "",
            "layout": "IPY_MODEL_6f12c16e40544bd99ec91bbc01d820b7",
            "_model_module": "@jupyter-widgets/controls",
            "children": [
              "IPY_MODEL_6c9a9f76b3c4451a8ef4cce805cfbdb3",
              "IPY_MODEL_8e341cef246c477ea88fb5391e60bcb6"
            ]
          }
        },
        "6f12c16e40544bd99ec91bbc01d820b7": {
          "model_module": "@jupyter-widgets/base",
          "model_name": "LayoutModel",
          "state": {
            "_view_name": "LayoutView",
            "grid_template_rows": null,
            "right": null,
            "justify_content": null,
            "_view_module": "@jupyter-widgets/base",
            "overflow": null,
            "_model_module_version": "1.2.0",
            "_view_count": null,
            "flex_flow": null,
            "width": null,
            "min_width": null,
            "border": null,
            "align_items": null,
            "bottom": null,
            "_model_module": "@jupyter-widgets/base",
            "top": null,
            "grid_column": null,
            "overflow_y": null,
            "overflow_x": null,
            "grid_auto_flow": null,
            "grid_area": null,
            "grid_template_columns": null,
            "flex": null,
            "_model_name": "LayoutModel",
            "justify_items": null,
            "grid_row": null,
            "max_height": null,
            "align_content": null,
            "visibility": null,
            "align_self": null,
            "height": null,
            "min_height": null,
            "padding": null,
            "grid_auto_rows": null,
            "grid_gap": null,
            "max_width": null,
            "order": null,
            "_view_module_version": "1.2.0",
            "grid_template_areas": null,
            "object_position": null,
            "object_fit": null,
            "grid_auto_columns": null,
            "margin": null,
            "display": null,
            "left": null
          }
        },
        "6c9a9f76b3c4451a8ef4cce805cfbdb3": {
          "model_module": "@jupyter-widgets/controls",
          "model_name": "IntProgressModel",
          "state": {
            "_view_name": "ProgressView",
            "style": "IPY_MODEL_17caaae44c4f4fde8437e3f801af1520",
            "_dom_classes": [],
            "description": "",
            "_model_name": "IntProgressModel",
            "bar_style": "info",
            "max": 1,
            "_view_module": "@jupyter-widgets/controls",
            "_model_module_version": "1.5.0",
            "value": 1,
            "_view_count": null,
            "_view_module_version": "1.5.0",
            "orientation": "horizontal",
            "min": 0,
            "description_tooltip": null,
            "_model_module": "@jupyter-widgets/controls",
            "layout": "IPY_MODEL_b14e0d51645b4304ad84b01a63934944"
          }
        },
        "8e341cef246c477ea88fb5391e60bcb6": {
          "model_module": "@jupyter-widgets/controls",
          "model_name": "HTMLModel",
          "state": {
            "_view_name": "HTMLView",
            "style": "IPY_MODEL_124a9be3a324495daa921ec262aa7065",
            "_dom_classes": [],
            "description": "",
            "_model_name": "HTMLModel",
            "placeholder": "​",
            "_view_module": "@jupyter-widgets/controls",
            "_model_module_version": "1.5.0",
            "value": " 170500096/? [00:30&lt;00:00, 11788510.50it/s]",
            "_view_count": null,
            "_view_module_version": "1.5.0",
            "description_tooltip": null,
            "_model_module": "@jupyter-widgets/controls",
            "layout": "IPY_MODEL_9f3521359095416b9b35a8434e7ce5e8"
          }
        },
        "17caaae44c4f4fde8437e3f801af1520": {
          "model_module": "@jupyter-widgets/controls",
          "model_name": "ProgressStyleModel",
          "state": {
            "_view_name": "StyleView",
            "_model_name": "ProgressStyleModel",
            "description_width": "initial",
            "_view_module": "@jupyter-widgets/base",
            "_model_module_version": "1.5.0",
            "_view_count": null,
            "_view_module_version": "1.2.0",
            "bar_color": null,
            "_model_module": "@jupyter-widgets/controls"
          }
        },
        "b14e0d51645b4304ad84b01a63934944": {
          "model_module": "@jupyter-widgets/base",
          "model_name": "LayoutModel",
          "state": {
            "_view_name": "LayoutView",
            "grid_template_rows": null,
            "right": null,
            "justify_content": null,
            "_view_module": "@jupyter-widgets/base",
            "overflow": null,
            "_model_module_version": "1.2.0",
            "_view_count": null,
            "flex_flow": null,
            "width": null,
            "min_width": null,
            "border": null,
            "align_items": null,
            "bottom": null,
            "_model_module": "@jupyter-widgets/base",
            "top": null,
            "grid_column": null,
            "overflow_y": null,
            "overflow_x": null,
            "grid_auto_flow": null,
            "grid_area": null,
            "grid_template_columns": null,
            "flex": null,
            "_model_name": "LayoutModel",
            "justify_items": null,
            "grid_row": null,
            "max_height": null,
            "align_content": null,
            "visibility": null,
            "align_self": null,
            "height": null,
            "min_height": null,
            "padding": null,
            "grid_auto_rows": null,
            "grid_gap": null,
            "max_width": null,
            "order": null,
            "_view_module_version": "1.2.0",
            "grid_template_areas": null,
            "object_position": null,
            "object_fit": null,
            "grid_auto_columns": null,
            "margin": null,
            "display": null,
            "left": null
          }
        },
        "124a9be3a324495daa921ec262aa7065": {
          "model_module": "@jupyter-widgets/controls",
          "model_name": "DescriptionStyleModel",
          "state": {
            "_view_name": "StyleView",
            "_model_name": "DescriptionStyleModel",
            "description_width": "",
            "_view_module": "@jupyter-widgets/base",
            "_model_module_version": "1.5.0",
            "_view_count": null,
            "_view_module_version": "1.2.0",
            "_model_module": "@jupyter-widgets/controls"
          }
        },
        "9f3521359095416b9b35a8434e7ce5e8": {
          "model_module": "@jupyter-widgets/base",
          "model_name": "LayoutModel",
          "state": {
            "_view_name": "LayoutView",
            "grid_template_rows": null,
            "right": null,
            "justify_content": null,
            "_view_module": "@jupyter-widgets/base",
            "overflow": null,
            "_model_module_version": "1.2.0",
            "_view_count": null,
            "flex_flow": null,
            "width": null,
            "min_width": null,
            "border": null,
            "align_items": null,
            "bottom": null,
            "_model_module": "@jupyter-widgets/base",
            "top": null,
            "grid_column": null,
            "overflow_y": null,
            "overflow_x": null,
            "grid_auto_flow": null,
            "grid_area": null,
            "grid_template_columns": null,
            "flex": null,
            "_model_name": "LayoutModel",
            "justify_items": null,
            "grid_row": null,
            "max_height": null,
            "align_content": null,
            "visibility": null,
            "align_self": null,
            "height": null,
            "min_height": null,
            "padding": null,
            "grid_auto_rows": null,
            "grid_gap": null,
            "max_width": null,
            "order": null,
            "_view_module_version": "1.2.0",
            "grid_template_areas": null,
            "object_position": null,
            "object_fit": null,
            "grid_auto_columns": null,
            "margin": null,
            "display": null,
            "left": null
          }
        }
      }
    }
  },
  "cells": [
    {
      "cell_type": "markdown",
      "metadata": {
        "id": "view-in-github",
        "colab_type": "text"
      },
      "source": [
        "<a href=\"https://colab.research.google.com/github/pphos/pytorch_tutorial/blob/master/cifar10_tutorial.ipynb\" target=\"_parent\"><img src=\"https://colab.research.google.com/assets/colab-badge.svg\" alt=\"Open In Colab\"/></a>"
      ]
    },
    {
      "cell_type": "markdown",
      "metadata": {
        "id": "JD9KCDLmLSo-",
        "colab_type": "text"
      },
      "source": [
        "# Training a Classifier\n",
        "\n",
        "ニューラルネットワークを定義し, 損失を計算し, ネットワークの重みを更新する方法を見てきました.\n",
        "\n",
        "今あなたは考えているかもしれません...\n",
        "\n",
        "### データについてはどうなんだ？\n",
        "一般に, 画像, テキスト, オーディオ, またはビデオデータを処理する必要がある場合には, numpy配列にデータをロードする標準的なPythonパッケージを使用できます. そしてこの配列を`torch.*Tensor`に変換できます.\n",
        "\n",
        "- 画像の場合, Pillow, OpenCVなどのパッケージが役立ちます\n",
        "- オーディオの場合, scipyやlibrosaなどのパッケージが役立ちます\n",
        "- テキストの場合, 未加工のPythonまたはCythonベースのロードやNLTKとSpaCyのいずれかが役立ちます.\n",
        "\n",
        "特にビジョンについては, Imagenet, CIFAR10, MNISTなどの一般的なデータセット用のデータローダと, 画像, つまり`torchvision.datasets`と`torch.utils.data.DataLoader`のデータトランスフォーマを備えた`torchvision`というパッケージを作成しました.\n",
        "\n",
        "これにより非常に便利になり, 定型コードを書く必要がなくなります.\n",
        "\n",
        "このチュートリアルでは, CIFAR10データセットを使用します.\n",
        "クラスには「飛行機」,「自動車」,「鳥」,「猫」,「鹿」,「犬」,「カエル」,「馬」,「船」,「トラック」があります.\n",
        "CIFAR10の画像サイズは3x32x32つまり, 32x32ピクセルのカラーチャネル画像です.\n",
        "\n",
        "## Training an image classifier\n",
        "\n",
        "次の手順を順番に実行します:\n",
        "1. `torchvison`を使用してCIFAR10の訓練データおよびテストデータを読み込み, 正規化します.\n",
        "2. Convolutional Neural Networkを定義します.\n",
        "3. 損失関数を定義します.\n",
        "4. 訓練データを用いてネットワークを訓練します.\n",
        "5. テストデータを用いてネットワークを評価します.\n",
        "\n",
        "### 1. CIFAR10の読み込みおよび正規化\n",
        "`torchvision`を用いてCIFAR10データセットを読み込みます.\n",
        "\n",
        "\n"
      ]
    },
    {
      "cell_type": "code",
      "metadata": {
        "id": "Xzp0x-rnPmsc",
        "colab_type": "code",
        "colab": {}
      },
      "source": [
        "import torch\n",
        "import torchvision\n",
        "import torchvision.transforms as transforms"
      ],
      "execution_count": 0,
      "outputs": []
    },
    {
      "cell_type": "markdown",
      "metadata": {
        "id": "Fd1mE5grQOoT",
        "colab_type": "text"
      },
      "source": [
        "torchvisionデータセットの出力は, [0,1]のPILImage画像です.\n",
        "それらを[-1, 1]の範囲で正規化されたテンソルに変換します."
      ]
    },
    {
      "cell_type": "code",
      "metadata": {
        "id": "azuEAPLyQnaQ",
        "colab_type": "code",
        "outputId": "2d9a1a32-4420-46f8-988a-c8f450414c66",
        "colab": {
          "base_uri": "https://localhost:8080/",
          "height": 101,
          "referenced_widgets": [
            "4580c359a9534d69a3855bee448eeec2",
            "6f12c16e40544bd99ec91bbc01d820b7",
            "6c9a9f76b3c4451a8ef4cce805cfbdb3",
            "8e341cef246c477ea88fb5391e60bcb6",
            "17caaae44c4f4fde8437e3f801af1520",
            "b14e0d51645b4304ad84b01a63934944",
            "124a9be3a324495daa921ec262aa7065",
            "9f3521359095416b9b35a8434e7ce5e8"
          ]
        }
      },
      "source": [
        "transform = transforms.Compose(\n",
        "    [transforms.ToTensor(),\n",
        "     transforms.Normalize((0.5, 0.5, 0.5), (0.5, 0.5, 0.5))])\n",
        "\n",
        "trainset = torchvision.datasets.CIFAR10(root='./data', train=True,\n",
        "                                        download=True, transform=transform)\n",
        "trainloader = torch.utils.data.DataLoader(trainset, batch_size=4,\n",
        "                                          shuffle=True, num_workers=2)\n",
        "\n",
        "testset = torchvision.datasets.CIFAR10(root='./data', train=False,\n",
        "                                       download=True, transform=transform)\n",
        "testloader = torch.utils.data.DataLoader(testset, batch_size=4,\n",
        "                                         shuffle=False, num_workers=2)\n",
        "\n",
        "classes = ('plane', 'car', 'bird', 'cat',\n",
        "           'deer', 'dog', 'frog', 'horse', 'ship', 'truck')"
      ],
      "execution_count": 2,
      "outputs": [
        {
          "output_type": "stream",
          "text": [
            "Downloading https://www.cs.toronto.edu/~kriz/cifar-10-python.tar.gz to ./data/cifar-10-python.tar.gz\n"
          ],
          "name": "stdout"
        },
        {
          "output_type": "display_data",
          "data": {
            "application/vnd.jupyter.widget-view+json": {
              "model_id": "4580c359a9534d69a3855bee448eeec2",
              "version_minor": 0,
              "version_major": 2
            },
            "text/plain": [
              "HBox(children=(IntProgress(value=1, bar_style='info', max=1), HTML(value='')))"
            ]
          },
          "metadata": {
            "tags": []
          }
        },
        {
          "output_type": "stream",
          "text": [
            "Extracting ./data/cifar-10-python.tar.gz to ./data\n",
            "Files already downloaded and verified\n"
          ],
          "name": "stdout"
        }
      ]
    },
    {
      "cell_type": "markdown",
      "metadata": {
        "id": "j2QlQ1XXR_Ig",
        "colab_type": "text"
      },
      "source": [
        "いくつかの訓練画像を表示しましょう"
      ]
    },
    {
      "cell_type": "code",
      "metadata": {
        "id": "vRBNNi8aSGvX",
        "colab_type": "code",
        "outputId": "6ed9b3f0-b335-4fcd-89d4-fd08e907e513",
        "colab": {
          "base_uri": "https://localhost:8080/",
          "height": 155
        }
      },
      "source": [
        "import matplotlib.pyplot as plt\n",
        "import numpy as np\n",
        "\n",
        "def imshow(img):\n",
        "  img = img / 2 + 0.5\n",
        "  npimg = img.numpy()\n",
        "  plt.imshow(np.transpose(npimg, (1, 2, 0)))\n",
        "  plt.show()\n",
        "\n",
        "# get some random training images\n",
        "dataiter = iter(trainloader)\n",
        "images, labels = dataiter.next()\n",
        "\n",
        "# show images\n",
        "imshow(torchvision.utils.make_grid(images))\n",
        "# print labels\n",
        "print(' '.join('%5s' % classes[labels[j]] for j in range(4)))"
      ],
      "execution_count": 3,
      "outputs": [
        {
          "output_type": "display_data",
          "data": {
            "image/png": "[encoded data removed]",
            "text/plain": [
              "<Figure size 432x288 with 1 Axes>"
            ]
          },
          "metadata": {
            "tags": [],
            "needs_background": "light"
          }
        },
        {
          "output_type": "stream",
          "text": [
            "horse plane truck horse\n"
          ],
          "name": "stdout"
        }
      ]
    },
    {
      "cell_type": "markdown",
      "metadata": {
        "id": "s7azHtsqSvwB",
        "colab_type": "text"
      },
      "source": [
        "### 2. Define a Convolutional Neural Network\n",
        "以前のニューラルネットワークセクションからニューラルネットワークをコピーし, 3チャネルの画像を取得するように変更します."
      ]
    },
    {
      "cell_type": "code",
      "metadata": {
        "id": "PY3TrcXxTAUO",
        "colab_type": "code",
        "colab": {}
      },
      "source": [
        "import torch.nn as nn\n",
        "import torch.nn.functional as F\n",
        "\n",
        "class Net(nn.Module):\n",
        "  def __init__(self):\n",
        "    super(Net, self).__init__()\n",
        "    self.conv1 = nn.Conv2d(3, 6, 5)\n",
        "    self.pool = nn.MaxPool2d(2, 2)\n",
        "    self.conv2 = nn.Conv2d(6, 16, 5)\n",
        "    self.fc1 = nn.Linear(16 * 5 * 5, 120)\n",
        "    self.fc2 = nn.Linear(120, 84)\n",
        "    self.fc3 = nn.Linear(84, 10)\n",
        "\n",
        "  def forward(self, x):\n",
        "    x = self.pool(F.relu(self.conv1(x)))\n",
        "    x = self.pool(F.relu(self.conv2(x)))\n",
        "    x = x.view(-1, 16 * 5 * 5)\n",
        "    x = F.relu(self.fc1(x))\n",
        "    x = F.relu(self.fc2(x))\n",
        "    x = self.fc3(x)\n",
        "    return x\n",
        "\n",
        "net = Net()"
      ],
      "execution_count": 0,
      "outputs": []
    },
    {
      "cell_type": "markdown",
      "metadata": {
        "id": "nQO4h_27T0Kt",
        "colab_type": "text"
      },
      "source": [
        "### 3. Define a Loss function and optimizer\n",
        "Categorical Cross-EntropyとSGDを使いましょう"
      ]
    },
    {
      "cell_type": "code",
      "metadata": {
        "id": "5t7NN-dsUbAx",
        "colab_type": "code",
        "colab": {}
      },
      "source": [
        "import torch.optim as optim\n",
        "\n",
        "criterion = nn.CrossEntropyLoss()\n",
        "optimizer = optim.SGD(net.parameters(), lr=0.001, momentum=0.9)"
      ],
      "execution_count": 0,
      "outputs": []
    },
    {
      "cell_type": "markdown",
      "metadata": {
        "id": "nsJ5E8OoUnco",
        "colab_type": "text"
      },
      "source": [
        "### 4. Train the network\n",
        "ここからが面白いところです.\n",
        "単純にデータイテレータをループさせて, 入力をネットワークに送り, 最適化するだけです."
      ]
    },
    {
      "cell_type": "code",
      "metadata": {
        "id": "tgn6K0MxU9ko",
        "colab_type": "code",
        "outputId": "8134f278-11ed-4826-c6be-47be46016009",
        "colab": {
          "base_uri": "https://localhost:8080/",
          "height": 242
        }
      },
      "source": [
        "for epoch in range(2):\n",
        "\n",
        "  running_loss = 0.0\n",
        "  for i, data in enumerate(trainloader, 0):\n",
        "    # get the inputs; data is a list of [inputs, labels]\n",
        "    inputs, labels = data\n",
        "\n",
        "    # zero the parameter gradients\n",
        "    optimizer.zero_grad()\n",
        "\n",
        "    # forward + backward + optimize\n",
        "    outputs = net(inputs)\n",
        "    loss = criterion(outputs, labels)\n",
        "    loss.backward()\n",
        "    optimizer.step()\n",
        "\n",
        "    # print statistics\n",
        "    running_loss += loss.item()\n",
        "    if i % 2000 == 1999:\n",
        "      print('[%d, %5d] loss: %.3f' % (epoch + 1, i + 1, running_loss / 2000))\n",
        "      running_loss = 0.0\n",
        "\n",
        "print('Finished Training')"
      ],
      "execution_count": 6,
      "outputs": [
        {
          "output_type": "stream",
          "text": [
            "[1,  2000] loss: 2.138\n",
            "[1,  4000] loss: 1.815\n",
            "[1,  6000] loss: 1.680\n",
            "[1,  8000] loss: 1.572\n",
            "[1, 10000] loss: 1.525\n",
            "[1, 12000] loss: 1.468\n",
            "[2,  2000] loss: 1.405\n",
            "[2,  4000] loss: 1.391\n",
            "[2,  6000] loss: 1.364\n",
            "[2,  8000] loss: 1.334\n",
            "[2, 10000] loss: 1.317\n",
            "[2, 12000] loss: 1.298\n",
            "Finished Training\n"
          ],
          "name": "stdout"
        }
      ]
    },
    {
      "cell_type": "markdown",
      "metadata": {
        "id": "qFoqSRgx_8NI",
        "colab_type": "text"
      },
      "source": [
        "### 5. Test the network on the test data\n",
        "学習データ・セットで2パスのネットワークを訓練しました.\n",
        "しかし, ネットワークが何かを学んだかを確認する必要があります.\n",
        "\n",
        "ニューラルネットワークが出力するクラスラベルを予測し, それを正解データと照らし合わせて確認します.\n",
        "予測が正しければ, そのサンプルを正しい予測リストに追加します.\n",
        "\n",
        "さて, 最初のステップとして, テストデータセットの画像を表示しましょう."
      ]
    },
    {
      "cell_type": "code",
      "metadata": {
        "id": "gI0EB_IAA5PV",
        "colab_type": "code",
        "colab": {
          "base_uri": "https://localhost:8080/",
          "height": 155
        },
        "outputId": "b076926c-82bf-473c-99ef-d821b69198a4"
      },
      "source": [
        "dataiter = iter(testloader)\n",
        "images, labels = dataiter.next()\n",
        "\n",
        "# print images\n",
        "imshow(torchvision.utils.make_grid(images))\n",
        "print('GroundTruth: ', ' '.join('%5s' % classes[labels[j]] for j in range(4)))"
      ],
      "execution_count": 8,
      "outputs": [
        {
          "output_type": "display_data",
          "data": {
            "image/png": "[encoded data removed]",
            "text/plain": [
              "<Figure size 432x288 with 1 Axes>"
            ]
          },
          "metadata": {
            "tags": [],
            "needs_background": "light"
          }
        },
        {
          "output_type": "stream",
          "text": [
            "GroundTruth:    cat  ship  ship plane\n"
          ],
          "name": "stdout"
        }
      ]
    },
    {
      "cell_type": "markdown",
      "metadata": {
        "id": "hyPjISRM8LFh",
        "colab_type": "text"
      },
      "source": [
        "さて, ニューラルネットワークが上記の例をどう考えているかを見てみましょう."
      ]
    },
    {
      "cell_type": "code",
      "metadata": {
        "id": "7c2S6Lp-8WAh",
        "colab_type": "code",
        "colab": {}
      },
      "source": [
        "outputs = net(images)"
      ],
      "execution_count": 0,
      "outputs": []
    },
    {
      "cell_type": "markdown",
      "metadata": {
        "id": "8FhOiYeC8Y7N",
        "colab_type": "text"
      },
      "source": [
        "出力は10クラスの確率です.\n",
        "クラスの確率が高ければ高いほど, ネットワークはその画像が特定のクラスのものであると考えます.\n",
        "そこで, 最も高い確率のクラスのインデックスを取得してみましょう."
      ]
    },
    {
      "cell_type": "code",
      "metadata": {
        "id": "QMCtzOmH9FEp",
        "colab_type": "code",
        "colab": {
          "base_uri": "https://localhost:8080/",
          "height": 35
        },
        "outputId": "3d1aab81-8501-4ea2-d7b8-1241e87284f6"
      },
      "source": [
        "_, predicted = torch.max(outputs, 1)\n",
        "print('Predicted: ', ' '.join('%5s' % classes[predicted[j]] for j in range(4)))"
      ],
      "execution_count": 10,
      "outputs": [
        {
          "output_type": "stream",
          "text": [
            "Predicted:    cat   car  ship  ship\n"
          ],
          "name": "stdout"
        }
      ]
    },
    {
      "cell_type": "markdown",
      "metadata": {
        "id": "Bxf9NdvB9Uk8",
        "colab_type": "text"
      },
      "source": [
        "テスト結果はよいように見えます.\n",
        "データセット全体でのネットワークの性能を確認しましょう."
      ]
    },
    {
      "cell_type": "code",
      "metadata": {
        "id": "VZVCANzJ9hot",
        "colab_type": "code",
        "colab": {
          "base_uri": "https://localhost:8080/",
          "height": 35
        },
        "outputId": "515ccc44-93cd-49f7-88ab-a6f50b3c4634"
      },
      "source": [
        "correct = 0\n",
        "total = 0\n",
        "with torch.no_grad():\n",
        "  for data in testloader:\n",
        "    images, labels = data\n",
        "    output = net(images)\n",
        "    _, predicted = torch.max(outputs.data, 1)\n",
        "    total += labels.size(0)\n",
        "    correct += (predicted == labels).sum().item()\n",
        "\n",
        "print('Accuracy of the network on the 10000 test images: %d %%' % (100 * correct / total))"
      ],
      "execution_count": 15,
      "outputs": [
        {
          "output_type": "stream",
          "text": [
            "Accuracy of the network on the 10000 test images: 9 %\n"
          ],
          "name": "stdout"
        }
      ]
    },
    {
      "cell_type": "code",
      "metadata": {
        "id": "3iH9yiBN_NVC",
        "colab_type": "code",
        "colab": {
          "base_uri": "https://localhost:8080/",
          "height": 190
        },
        "outputId": "b74ab1c7-b075-4dff-e0cf-68ae047e8d52"
      },
      "source": [
        "class_correct = list(0. for i in range(10))\n",
        "class_total = list(0. for i in range(10))\n",
        "with torch.no_grad():\n",
        "  for data in testloader:\n",
        "    images, labels = data\n",
        "    outputs = net(images)\n",
        "    _, predicted = torch.max(outputs, 1)\n",
        "    c = (predicted == labels).squeeze()\n",
        "    for i in range(4):\n",
        "      label = labels[i]\n",
        "      class_correct[label] += c[i].item()\n",
        "      class_total[label] += 1\n",
        "\n",
        "for i in range(10):\n",
        "  print('Accuracy of %5s : %2s %%' % (classes[i], 100 * class_correct[i] / class_total[i]))"
      ],
      "execution_count": 14,
      "outputs": [
        {
          "output_type": "stream",
          "text": [
            "Accuracy of plane : 39.0 %\n",
            "Accuracy of   car : 73.6 %\n",
            "Accuracy of  bird : 39.8 %\n",
            "Accuracy of   cat : 32.0 %\n",
            "Accuracy of  deer : 34.4 %\n",
            "Accuracy of   dog : 39.3 %\n",
            "Accuracy of  frog : 83.7 %\n",
            "Accuracy of horse : 67.0 %\n",
            "Accuracy of  ship : 67.9 %\n",
            "Accuracy of truck : 55.7 %\n"
          ],
          "name": "stdout"
        }
      ]
    }
  ]
}